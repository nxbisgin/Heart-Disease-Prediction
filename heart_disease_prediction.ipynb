{
 "cells": [
  {
   "cell_type": "markdown",
   "metadata": {},
   "source": [
    "# Predicting Heart Disease\n",
    "\n",
    "The dataset for this project is downloaded from Kaggle:\n",
    "https://www.kaggle.com/ronitf/heart-disease-uci\n",
    "\n",
    "The goal of the project is building an ML model that predicts the presence of heart disease in the patient."
   ]
  },
  {
   "cell_type": "code",
   "execution_count": 680,
   "metadata": {
    "ExecuteTime": {
     "end_time": "2022-02-21T15:17:51.570775Z",
     "start_time": "2022-02-21T15:17:51.564404Z"
    }
   },
   "outputs": [],
   "source": [
    "import pandas as pd\n",
    "import numpy as np\n",
    "import matplotlib.pyplot as plt\n",
    "import seaborn as sns\n",
    "from sklearn.model_selection import train_test_split\n",
    "from sklearn.tree import DecisionTreeClassifier\n",
    "from sklearn.ensemble import RandomForestClassifier\n",
    "from sklearn.model_selection import StratifiedKFold\n",
    "from sklearn import metrics\n",
    "from sklearn.metrics import accuracy_score, mean_squared_error, f1_score, auc, roc_curve, confusion_matrix\n",
    "from sklearn.inspection import permutation_importance"
   ]
  },
  {
   "cell_type": "markdown",
   "metadata": {},
   "source": [
    "## Load in the Data Set\n",
    "\n",
    "Columns description:\n",
    "\n",
    "- age\n",
    "- sex\n",
    "- cp: chest pain type (4 values)\n",
    "- trestbps: resting blood pressure\n",
    "- chol: serum cholestoral in mg/dl\n",
    "- fbs: fasting blood sugar > 120 mg/dl\n",
    "- restecg: resting electrocardiographic results (values 0,1,2)\n",
    "- thalach: maximum heart rate achieved\n",
    "- exang: exercise induced angina\n",
    "- oldpeak: ST depression induced by exercise relative to rest\n",
    "- slope: the slope of the peak exercise ST segment\n",
    "- ca: number of major vessels (0-3) colored by flourosopy\n",
    "- thal: 3 = normal; 6 = fixed defect; 7 = reversable defect\n",
    "- target: refers to the presence of heart disease in the patient (1=yes, 0=no)"
   ]
  },
  {
   "cell_type": "code",
   "execution_count": 681,
   "metadata": {
    "ExecuteTime": {
     "end_time": "2022-02-21T15:17:51.597452Z",
     "start_time": "2022-02-21T15:17:51.574366Z"
    }
   },
   "outputs": [
    {
     "data": {
      "text/html": [
       "<div>\n",
       "<style scoped>\n",
       "    .dataframe tbody tr th:only-of-type {\n",
       "        vertical-align: middle;\n",
       "    }\n",
       "\n",
       "    .dataframe tbody tr th {\n",
       "        vertical-align: top;\n",
       "    }\n",
       "\n",
       "    .dataframe thead th {\n",
       "        text-align: right;\n",
       "    }\n",
       "</style>\n",
       "<table border=\"1\" class=\"dataframe\">\n",
       "  <thead>\n",
       "    <tr style=\"text-align: right;\">\n",
       "      <th></th>\n",
       "      <th>age</th>\n",
       "      <th>sex</th>\n",
       "      <th>cp</th>\n",
       "      <th>trestbps</th>\n",
       "      <th>chol</th>\n",
       "      <th>fbs</th>\n",
       "      <th>restecg</th>\n",
       "      <th>thalach</th>\n",
       "      <th>exang</th>\n",
       "      <th>oldpeak</th>\n",
       "      <th>slope</th>\n",
       "      <th>ca</th>\n",
       "      <th>thal</th>\n",
       "      <th>target</th>\n",
       "    </tr>\n",
       "  </thead>\n",
       "  <tbody>\n",
       "    <tr>\n",
       "      <th>0</th>\n",
       "      <td>63</td>\n",
       "      <td>1</td>\n",
       "      <td>3</td>\n",
       "      <td>145</td>\n",
       "      <td>233</td>\n",
       "      <td>1</td>\n",
       "      <td>0</td>\n",
       "      <td>150</td>\n",
       "      <td>0</td>\n",
       "      <td>2.3</td>\n",
       "      <td>0</td>\n",
       "      <td>0</td>\n",
       "      <td>1</td>\n",
       "      <td>1</td>\n",
       "    </tr>\n",
       "    <tr>\n",
       "      <th>1</th>\n",
       "      <td>37</td>\n",
       "      <td>1</td>\n",
       "      <td>2</td>\n",
       "      <td>130</td>\n",
       "      <td>250</td>\n",
       "      <td>0</td>\n",
       "      <td>1</td>\n",
       "      <td>187</td>\n",
       "      <td>0</td>\n",
       "      <td>3.5</td>\n",
       "      <td>0</td>\n",
       "      <td>0</td>\n",
       "      <td>2</td>\n",
       "      <td>1</td>\n",
       "    </tr>\n",
       "    <tr>\n",
       "      <th>2</th>\n",
       "      <td>41</td>\n",
       "      <td>0</td>\n",
       "      <td>1</td>\n",
       "      <td>130</td>\n",
       "      <td>204</td>\n",
       "      <td>0</td>\n",
       "      <td>0</td>\n",
       "      <td>172</td>\n",
       "      <td>0</td>\n",
       "      <td>1.4</td>\n",
       "      <td>2</td>\n",
       "      <td>0</td>\n",
       "      <td>2</td>\n",
       "      <td>1</td>\n",
       "    </tr>\n",
       "    <tr>\n",
       "      <th>3</th>\n",
       "      <td>56</td>\n",
       "      <td>1</td>\n",
       "      <td>1</td>\n",
       "      <td>120</td>\n",
       "      <td>236</td>\n",
       "      <td>0</td>\n",
       "      <td>1</td>\n",
       "      <td>178</td>\n",
       "      <td>0</td>\n",
       "      <td>0.8</td>\n",
       "      <td>2</td>\n",
       "      <td>0</td>\n",
       "      <td>2</td>\n",
       "      <td>1</td>\n",
       "    </tr>\n",
       "    <tr>\n",
       "      <th>4</th>\n",
       "      <td>57</td>\n",
       "      <td>0</td>\n",
       "      <td>0</td>\n",
       "      <td>120</td>\n",
       "      <td>354</td>\n",
       "      <td>0</td>\n",
       "      <td>1</td>\n",
       "      <td>163</td>\n",
       "      <td>1</td>\n",
       "      <td>0.6</td>\n",
       "      <td>2</td>\n",
       "      <td>0</td>\n",
       "      <td>2</td>\n",
       "      <td>1</td>\n",
       "    </tr>\n",
       "  </tbody>\n",
       "</table>\n",
       "</div>"
      ],
      "text/plain": [
       "   age  sex  cp  trestbps  chol  fbs  restecg  thalach  exang  oldpeak  slope  \\\n",
       "0   63    1   3       145   233    1        0      150      0      2.3      0   \n",
       "1   37    1   2       130   250    0        1      187      0      3.5      0   \n",
       "2   41    0   1       130   204    0        0      172      0      1.4      2   \n",
       "3   56    1   1       120   236    0        1      178      0      0.8      2   \n",
       "4   57    0   0       120   354    0        1      163      1      0.6      2   \n",
       "\n",
       "   ca  thal  target  \n",
       "0   0     1       1  \n",
       "1   0     2       1  \n",
       "2   0     2       1  \n",
       "3   0     2       1  \n",
       "4   0     2       1  "
      ]
     },
     "execution_count": 681,
     "metadata": {},
     "output_type": "execute_result"
    }
   ],
   "source": [
    "heart_df = pd.read_csv('./data/heart.csv')\n",
    "heart_df.head()"
   ]
  },
  {
   "cell_type": "code",
   "execution_count": 682,
   "metadata": {
    "ExecuteTime": {
     "end_time": "2022-02-21T15:17:51.603865Z",
     "start_time": "2022-02-21T15:17:51.600004Z"
    }
   },
   "outputs": [
    {
     "data": {
      "text/plain": [
       "(303, 14)"
      ]
     },
     "execution_count": 682,
     "metadata": {},
     "output_type": "execute_result"
    }
   ],
   "source": [
    "heart_df.shape"
   ]
  },
  {
   "cell_type": "markdown",
   "metadata": {},
   "source": [
    "There are 303 patients and 14 attributes, one of them is the target column, which indicates the presence of heart disease."
   ]
  },
  {
   "cell_type": "code",
   "execution_count": 683,
   "metadata": {
    "ExecuteTime": {
     "end_time": "2022-02-21T15:17:51.637670Z",
     "start_time": "2022-02-21T15:17:51.605647Z"
    }
   },
   "outputs": [
    {
     "data": {
      "text/html": [
       "<div>\n",
       "<style scoped>\n",
       "    .dataframe tbody tr th:only-of-type {\n",
       "        vertical-align: middle;\n",
       "    }\n",
       "\n",
       "    .dataframe tbody tr th {\n",
       "        vertical-align: top;\n",
       "    }\n",
       "\n",
       "    .dataframe thead th {\n",
       "        text-align: right;\n",
       "    }\n",
       "</style>\n",
       "<table border=\"1\" class=\"dataframe\">\n",
       "  <thead>\n",
       "    <tr style=\"text-align: right;\">\n",
       "      <th></th>\n",
       "      <th>age</th>\n",
       "      <th>sex</th>\n",
       "      <th>cp</th>\n",
       "      <th>trestbps</th>\n",
       "      <th>chol</th>\n",
       "      <th>fbs</th>\n",
       "      <th>restecg</th>\n",
       "      <th>thalach</th>\n",
       "      <th>exang</th>\n",
       "      <th>oldpeak</th>\n",
       "      <th>slope</th>\n",
       "      <th>ca</th>\n",
       "      <th>thal</th>\n",
       "      <th>target</th>\n",
       "    </tr>\n",
       "  </thead>\n",
       "  <tbody>\n",
       "    <tr>\n",
       "      <th>count</th>\n",
       "      <td>303.000000</td>\n",
       "      <td>303.000000</td>\n",
       "      <td>303.000000</td>\n",
       "      <td>303.000000</td>\n",
       "      <td>303.000000</td>\n",
       "      <td>303.000000</td>\n",
       "      <td>303.000000</td>\n",
       "      <td>303.000000</td>\n",
       "      <td>303.000000</td>\n",
       "      <td>303.000000</td>\n",
       "      <td>303.000000</td>\n",
       "      <td>303.000000</td>\n",
       "      <td>303.000000</td>\n",
       "      <td>303.000000</td>\n",
       "    </tr>\n",
       "    <tr>\n",
       "      <th>mean</th>\n",
       "      <td>54.366337</td>\n",
       "      <td>0.683168</td>\n",
       "      <td>0.966997</td>\n",
       "      <td>131.623762</td>\n",
       "      <td>246.264026</td>\n",
       "      <td>0.148515</td>\n",
       "      <td>0.528053</td>\n",
       "      <td>149.646865</td>\n",
       "      <td>0.326733</td>\n",
       "      <td>1.039604</td>\n",
       "      <td>1.399340</td>\n",
       "      <td>0.729373</td>\n",
       "      <td>2.313531</td>\n",
       "      <td>0.544554</td>\n",
       "    </tr>\n",
       "    <tr>\n",
       "      <th>std</th>\n",
       "      <td>9.082101</td>\n",
       "      <td>0.466011</td>\n",
       "      <td>1.032052</td>\n",
       "      <td>17.538143</td>\n",
       "      <td>51.830751</td>\n",
       "      <td>0.356198</td>\n",
       "      <td>0.525860</td>\n",
       "      <td>22.905161</td>\n",
       "      <td>0.469794</td>\n",
       "      <td>1.161075</td>\n",
       "      <td>0.616226</td>\n",
       "      <td>1.022606</td>\n",
       "      <td>0.612277</td>\n",
       "      <td>0.498835</td>\n",
       "    </tr>\n",
       "    <tr>\n",
       "      <th>min</th>\n",
       "      <td>29.000000</td>\n",
       "      <td>0.000000</td>\n",
       "      <td>0.000000</td>\n",
       "      <td>94.000000</td>\n",
       "      <td>126.000000</td>\n",
       "      <td>0.000000</td>\n",
       "      <td>0.000000</td>\n",
       "      <td>71.000000</td>\n",
       "      <td>0.000000</td>\n",
       "      <td>0.000000</td>\n",
       "      <td>0.000000</td>\n",
       "      <td>0.000000</td>\n",
       "      <td>0.000000</td>\n",
       "      <td>0.000000</td>\n",
       "    </tr>\n",
       "    <tr>\n",
       "      <th>25%</th>\n",
       "      <td>47.500000</td>\n",
       "      <td>0.000000</td>\n",
       "      <td>0.000000</td>\n",
       "      <td>120.000000</td>\n",
       "      <td>211.000000</td>\n",
       "      <td>0.000000</td>\n",
       "      <td>0.000000</td>\n",
       "      <td>133.500000</td>\n",
       "      <td>0.000000</td>\n",
       "      <td>0.000000</td>\n",
       "      <td>1.000000</td>\n",
       "      <td>0.000000</td>\n",
       "      <td>2.000000</td>\n",
       "      <td>0.000000</td>\n",
       "    </tr>\n",
       "    <tr>\n",
       "      <th>50%</th>\n",
       "      <td>55.000000</td>\n",
       "      <td>1.000000</td>\n",
       "      <td>1.000000</td>\n",
       "      <td>130.000000</td>\n",
       "      <td>240.000000</td>\n",
       "      <td>0.000000</td>\n",
       "      <td>1.000000</td>\n",
       "      <td>153.000000</td>\n",
       "      <td>0.000000</td>\n",
       "      <td>0.800000</td>\n",
       "      <td>1.000000</td>\n",
       "      <td>0.000000</td>\n",
       "      <td>2.000000</td>\n",
       "      <td>1.000000</td>\n",
       "    </tr>\n",
       "    <tr>\n",
       "      <th>75%</th>\n",
       "      <td>61.000000</td>\n",
       "      <td>1.000000</td>\n",
       "      <td>2.000000</td>\n",
       "      <td>140.000000</td>\n",
       "      <td>274.500000</td>\n",
       "      <td>0.000000</td>\n",
       "      <td>1.000000</td>\n",
       "      <td>166.000000</td>\n",
       "      <td>1.000000</td>\n",
       "      <td>1.600000</td>\n",
       "      <td>2.000000</td>\n",
       "      <td>1.000000</td>\n",
       "      <td>3.000000</td>\n",
       "      <td>1.000000</td>\n",
       "    </tr>\n",
       "    <tr>\n",
       "      <th>max</th>\n",
       "      <td>77.000000</td>\n",
       "      <td>1.000000</td>\n",
       "      <td>3.000000</td>\n",
       "      <td>200.000000</td>\n",
       "      <td>564.000000</td>\n",
       "      <td>1.000000</td>\n",
       "      <td>2.000000</td>\n",
       "      <td>202.000000</td>\n",
       "      <td>1.000000</td>\n",
       "      <td>6.200000</td>\n",
       "      <td>2.000000</td>\n",
       "      <td>4.000000</td>\n",
       "      <td>3.000000</td>\n",
       "      <td>1.000000</td>\n",
       "    </tr>\n",
       "  </tbody>\n",
       "</table>\n",
       "</div>"
      ],
      "text/plain": [
       "              age         sex          cp    trestbps        chol         fbs  \\\n",
       "count  303.000000  303.000000  303.000000  303.000000  303.000000  303.000000   \n",
       "mean    54.366337    0.683168    0.966997  131.623762  246.264026    0.148515   \n",
       "std      9.082101    0.466011    1.032052   17.538143   51.830751    0.356198   \n",
       "min     29.000000    0.000000    0.000000   94.000000  126.000000    0.000000   \n",
       "25%     47.500000    0.000000    0.000000  120.000000  211.000000    0.000000   \n",
       "50%     55.000000    1.000000    1.000000  130.000000  240.000000    0.000000   \n",
       "75%     61.000000    1.000000    2.000000  140.000000  274.500000    0.000000   \n",
       "max     77.000000    1.000000    3.000000  200.000000  564.000000    1.000000   \n",
       "\n",
       "          restecg     thalach       exang     oldpeak       slope          ca  \\\n",
       "count  303.000000  303.000000  303.000000  303.000000  303.000000  303.000000   \n",
       "mean     0.528053  149.646865    0.326733    1.039604    1.399340    0.729373   \n",
       "std      0.525860   22.905161    0.469794    1.161075    0.616226    1.022606   \n",
       "min      0.000000   71.000000    0.000000    0.000000    0.000000    0.000000   \n",
       "25%      0.000000  133.500000    0.000000    0.000000    1.000000    0.000000   \n",
       "50%      1.000000  153.000000    0.000000    0.800000    1.000000    0.000000   \n",
       "75%      1.000000  166.000000    1.000000    1.600000    2.000000    1.000000   \n",
       "max      2.000000  202.000000    1.000000    6.200000    2.000000    4.000000   \n",
       "\n",
       "             thal      target  \n",
       "count  303.000000  303.000000  \n",
       "mean     2.313531    0.544554  \n",
       "std      0.612277    0.498835  \n",
       "min      0.000000    0.000000  \n",
       "25%      2.000000    0.000000  \n",
       "50%      2.000000    1.000000  \n",
       "75%      3.000000    1.000000  \n",
       "max      3.000000    1.000000  "
      ]
     },
     "execution_count": 683,
     "metadata": {},
     "output_type": "execute_result"
    }
   ],
   "source": [
    "# summary statistics\n",
    "heart_df.describe()"
   ]
  },
  {
   "cell_type": "code",
   "execution_count": 684,
   "metadata": {
    "ExecuteTime": {
     "end_time": "2022-02-21T15:17:51.649134Z",
     "start_time": "2022-02-21T15:17:51.638896Z"
    }
   },
   "outputs": [
    {
     "name": "stdout",
     "output_type": "stream",
     "text": [
      "<class 'pandas.core.frame.DataFrame'>\n",
      "RangeIndex: 303 entries, 0 to 302\n",
      "Data columns (total 14 columns):\n",
      " #   Column    Non-Null Count  Dtype  \n",
      "---  ------    --------------  -----  \n",
      " 0   age       303 non-null    int64  \n",
      " 1   sex       303 non-null    int64  \n",
      " 2   cp        303 non-null    int64  \n",
      " 3   trestbps  303 non-null    int64  \n",
      " 4   chol      303 non-null    int64  \n",
      " 5   fbs       303 non-null    int64  \n",
      " 6   restecg   303 non-null    int64  \n",
      " 7   thalach   303 non-null    int64  \n",
      " 8   exang     303 non-null    int64  \n",
      " 9   oldpeak   303 non-null    float64\n",
      " 10  slope     303 non-null    int64  \n",
      " 11  ca        303 non-null    int64  \n",
      " 12  thal      303 non-null    int64  \n",
      " 13  target    303 non-null    int64  \n",
      "dtypes: float64(1), int64(13)\n",
      "memory usage: 33.3 KB\n"
     ]
    }
   ],
   "source": [
    "# Basic information\n",
    "heart_df.info()"
   ]
  },
  {
   "cell_type": "markdown",
   "metadata": {},
   "source": [
    "There are no missing values in the data."
   ]
  },
  {
   "cell_type": "code",
   "execution_count": 685,
   "metadata": {
    "ExecuteTime": {
     "end_time": "2022-02-21T15:17:51.654075Z",
     "start_time": "2022-02-21T15:17:51.650159Z"
    }
   },
   "outputs": [
    {
     "data": {
      "text/plain": [
       "1"
      ]
     },
     "execution_count": 685,
     "metadata": {},
     "output_type": "execute_result"
    }
   ],
   "source": [
    "heart_df.duplicated().sum() "
   ]
  },
  {
   "cell_type": "markdown",
   "metadata": {},
   "source": [
    "There is one duplicated row. We need to remove it."
   ]
  },
  {
   "cell_type": "code",
   "execution_count": 686,
   "metadata": {
    "ExecuteTime": {
     "end_time": "2022-02-21T15:17:51.659106Z",
     "start_time": "2022-02-21T15:17:51.655159Z"
    }
   },
   "outputs": [
    {
     "data": {
      "text/plain": [
       "302"
      ]
     },
     "execution_count": 686,
     "metadata": {},
     "output_type": "execute_result"
    }
   ],
   "source": [
    "heart_df.drop_duplicates(inplace=True)\n",
    "heart_df.shape[0]"
   ]
  },
  {
   "cell_type": "markdown",
   "metadata": {},
   "source": [
    "We want to make sure that we are training our random forest models on balanced data. In the following cell, we see how many examples of healthy and diseased hears we have."
   ]
  },
  {
   "cell_type": "code",
   "execution_count": 687,
   "metadata": {
    "ExecuteTime": {
     "end_time": "2022-02-21T15:17:51.722138Z",
     "start_time": "2022-02-21T15:17:51.661281Z"
    }
   },
   "outputs": [
    {
     "name": "stdout",
     "output_type": "stream",
     "text": [
      "Healthy: 138\n",
      "Heart Diesease: 164\n",
      "Total: 302\n"
     ]
    },
    {
     "data": {
      "text/plain": [
       "Text(0.5, 1.0, 'Percent for each Example Class')"
      ]
     },
     "execution_count": 687,
     "metadata": {},
     "output_type": "execute_result"
    },
    {
     "data": {
      "image/png": "[encoded data removed]",
      "text/plain": [
       "<Figure size 432x288 with 1 Axes>"
      ]
     },
     "metadata": {},
     "output_type": "display_data"
    }
   ],
   "source": [
    "# number of diseased examples\n",
    "disease = len(heart_df[heart_df['target'] == 1])\n",
    "# number of healthy examples\n",
    "no_disease = len(heart_df[heart_df['target']== 0])\n",
    "\n",
    "# print the number of healthy samples\n",
    "print(\"Healthy:\",no_disease)\n",
    "# print the number of diseased samples\n",
    "print(\"Heart Diesease:\",  disease )\n",
    "print(\"Total:\",  no_disease + disease )\n",
    "\n",
    "# Make a Pie chart to represent how many example we have in each class\n",
    "plt.pie([disease, no_disease], labels=['Heart Disease', 'No Disease'], startangle=90)\n",
    "plt.title('Percent for each Example Class')"
   ]
  },
  {
   "cell_type": "code",
   "execution_count": 688,
   "metadata": {
    "ExecuteTime": {
     "end_time": "2022-02-21T15:17:52.746200Z",
     "start_time": "2022-02-21T15:17:51.723916Z"
    }
   },
   "outputs": [
    {
     "data": {
      "image/png": "[encoded data removed]",
      "text/plain": [
       "<Figure size 1080x144 with 1 Axes>"
      ]
     },
     "metadata": {
      "needs_background": "light"
     },
     "output_type": "display_data"
    },
    {
     "data": {
      "image/png": "[encoded data removed]",
      "text/plain": [
       "<Figure size 1080x144 with 1 Axes>"
      ]
     },
     "metadata": {
      "needs_background": "light"
     },
     "output_type": "display_data"
    },
    {
     "data": {
      "image/png": "[encoded data removed]",
      "text/plain": [
       "<Figure size 1080x144 with 1 Axes>"
      ]
     },
     "metadata": {
      "needs_background": "light"
     },
     "output_type": "display_data"
    },
    {
     "data": {
      "image/png": "[encoded data removed]",
      "text/plain": [
       "<Figure size 1080x144 with 1 Axes>"
      ]
     },
     "metadata": {
      "needs_background": "light"
     },
     "output_type": "display_data"
    },
    {
     "data": {
      "image/png": "[encoded data removed]",
      "text/plain": [
       "<Figure size 1080x144 with 1 Axes>"
      ]
     },
     "metadata": {
      "needs_background": "light"
     },
     "output_type": "display_data"
    },
    {
     "data": {
      "image/png": "[encoded data removed]",
      "text/plain": [
       "<Figure size 1080x144 with 1 Axes>"
      ]
     },
     "metadata": {
      "needs_background": "light"
     },
     "output_type": "display_data"
    },
    {
     "data": {
      "image/png": "[encoded data removed]",
      "text/plain": [
       "<Figure size 1080x144 with 1 Axes>"
      ]
     },
     "metadata": {
      "needs_background": "light"
     },
     "output_type": "display_data"
    },
    {
     "data": {
      "image/png": "[encoded data removed]",
      "text/plain": [
       "<Figure size 1080x144 with 1 Axes>"
      ]
     },
     "metadata": {
      "needs_background": "light"
     },
     "output_type": "display_data"
    },
    {
     "data": {
      "image/png": "[encoded data removed]",
      "text/plain": [
       "<Figure size 1080x144 with 1 Axes>"
      ]
     },
     "metadata": {
      "needs_background": "light"
     },
     "output_type": "display_data"
    },
    {
     "data": {
      "image/png": "[encoded data removed]",
      "text/plain": [
       "<Figure size 1080x144 with 1 Axes>"
      ]
     },
     "metadata": {
      "needs_background": "light"
     },
     "output_type": "display_data"
    },
    {
     "data": {
      "image/png": "[encoded data removed]",
      "text/plain": [
       "<Figure size 1080x144 with 1 Axes>"
      ]
     },
     "metadata": {
      "needs_background": "light"
     },
     "output_type": "display_data"
    },
    {
     "data": {
      "image/png": "[encoded data removed]",
      "text/plain": [
       "<Figure size 1080x144 with 1 Axes>"
      ]
     },
     "metadata": {
      "needs_background": "light"
     },
     "output_type": "display_data"
    },
    {
     "data": {
      "image/png": "[encoded data removed]",
      "text/plain": [
       "<Figure size 1080x144 with 1 Axes>"
      ]
     },
     "metadata": {
      "needs_background": "light"
     },
     "output_type": "display_data"
    },
    {
     "data": {
      "image/png": "[encoded data removed]",
      "text/plain": [
       "<Figure size 1080x144 with 1 Axes>"
      ]
     },
     "metadata": {
      "needs_background": "light"
     },
     "output_type": "display_data"
    }
   ],
   "source": [
    "for col in heart_df.columns:\n",
    "    plt.figure(figsize=(15, 2))\n",
    "    sns.histplot(heart_df[col])\n",
    "    plt.title(col+\" distribution\")\n",
    "    plt.show()"
   ]
  },
  {
   "cell_type": "code",
   "execution_count": 689,
   "metadata": {
    "ExecuteTime": {
     "end_time": "2022-02-21T15:17:53.562011Z",
     "start_time": "2022-02-21T15:17:52.747192Z"
    }
   },
   "outputs": [
    {
     "data": {
      "image/png": "[encoded data removed]",
      "text/plain": [
       "<Figure size 1008x720 with 2 Axes>"
      ]
     },
     "metadata": {
      "needs_background": "light"
     },
     "output_type": "display_data"
    }
   ],
   "source": [
    "corrmat = heart_df.corr()\n",
    "k = 15 #number of variables for heatmap\n",
    "cols = corrmat.nlargest(k, 'target')['target'].index\n",
    "f, ax = plt.subplots(figsize=(14, 10))\n",
    "sns.heatmap(heart_df[cols].corr(), vmax=.8, square=True, annot = True);"
   ]
  },
  {
   "cell_type": "markdown",
   "metadata": {
    "ExecuteTime": {
     "end_time": "2022-02-21T14:57:33.036900Z",
     "start_time": "2022-02-21T14:57:33.018621Z"
    }
   },
   "source": [
    "From the heatmap, it seems like the features \"fbs\", \"chol\", \"trestbps\" and \n",
    "\"restecg\" are not too much correlated to the target."
   ]
  },
  {
   "cell_type": "markdown",
   "metadata": {},
   "source": [
    "The next step is to seperate our data into the feature vectors and the labels."
   ]
  },
  {
   "cell_type": "code",
   "execution_count": 690,
   "metadata": {
    "ExecuteTime": {
     "end_time": "2022-02-21T15:17:53.565417Z",
     "start_time": "2022-02-21T15:17:53.562967Z"
    }
   },
   "outputs": [],
   "source": [
    "# Extract feature vectors and labels\n",
    "X = heart_df.drop('target',1)\n",
    "y = heart_df['target']\n",
    "\n",
    "# Convert from pandas objects to numpy objects\n",
    "X = X.values\n",
    "y = y.values"
   ]
  },
  {
   "cell_type": "markdown",
   "metadata": {},
   "source": [
    "Now that we have split the data into feature vectors and labels, we need to split it into a training data set and a testing data set."
   ]
  },
  {
   "cell_type": "code",
   "execution_count": 691,
   "metadata": {
    "ExecuteTime": {
     "end_time": "2022-02-21T15:17:53.568618Z",
     "start_time": "2022-02-21T15:17:53.566409Z"
    }
   },
   "outputs": [],
   "source": [
    "X_train, X_test, y_train, y_test = train_test_split(X, y, test_size=0.2, random_state=2)"
   ]
  },
  {
   "cell_type": "markdown",
   "metadata": {},
   "source": [
    "## Cross Validation"
   ]
  },
  {
   "cell_type": "markdown",
   "metadata": {},
   "source": [
    "In general, for health problems, we will be more concerned about not missing any positive cases. If a patient has heart disease, we want to correctly predict that the patient has the disease. It is less of a concerning situation if the model is predicting positive when in reality the patient is healthy. So, our main focus in terms of evaluation metrics is the sensitivity, which is the proportion of actual positive cases that are corrrectly identified. \n",
    "\n",
    "The function below, k_fold_cross_validation takes any model as input and calculates the mean and standard deviation of sensitivity scores in k folds."
   ]
  },
  {
   "cell_type": "code",
   "execution_count": 692,
   "metadata": {
    "ExecuteTime": {
     "end_time": "2022-02-21T15:17:53.573638Z",
     "start_time": "2022-02-21T15:17:53.569484Z"
    }
   },
   "outputs": [],
   "source": [
    "def k_fold_cross_validation(X, y, k, model):\n",
    "    # accuracy for each fold\n",
    "    sensitivity = np.zeros((k,1))\n",
    "    accuracy = np.zeros((k,1))\n",
    "    f1score = np.zeros((k,1))\n",
    "    \n",
    "    # fold count\n",
    "    fold = 0\n",
    "    \n",
    "    # split the data into training and validation sets\n",
    "    skf = StratifiedKFold(n_splits = k)\n",
    "    \n",
    "    for train_indices, test_indices in skf.split(X,y):\n",
    "        \n",
    "        # Get the training and validation data sets\n",
    "        X_train_cv, X_validation = X[train_indices], X[test_indices]\n",
    "        Y_train_cv, Y_validation = y[train_indices], y[test_indices]\n",
    "\n",
    "        # Train the model on the training data\n",
    "        model.fit(X_train_cv,  Y_train_cv)\n",
    "\n",
    "        # Get the predictions from the validation data\n",
    "        predictions = model.predict(X_validation)\n",
    "                \n",
    "        # Calculate the tpr\n",
    "        fpr, tpr, thresholds = roc_curve(Y_validation, predictions)\n",
    "        acc = accuracy_score(Y_validation, predictions)\n",
    "        f1 = f1_score(Y_validation, predictions)\n",
    "\n",
    "        sensitivity[fold] = tpr[1]\n",
    "        accuracy[fold] = acc\n",
    "        f1score[fold] = f1\n",
    "        fold += 1\n",
    "        \n",
    "    return np.mean(sensitivity), np.std(sensitivity), np.mean(accuracy), np.mean(f1score)"
   ]
  },
  {
   "cell_type": "markdown",
   "metadata": {},
   "source": [
    "# Create a Decision Tree Classifier"
   ]
  },
  {
   "cell_type": "code",
   "execution_count": 693,
   "metadata": {
    "ExecuteTime": {
     "end_time": "2022-02-21T15:17:53.576220Z",
     "start_time": "2022-02-21T15:17:53.574543Z"
    }
   },
   "outputs": [],
   "source": [
    "# Building Decision Tree\n",
    "dt = DecisionTreeClassifier(random_state = 42)"
   ]
  },
  {
   "cell_type": "code",
   "execution_count": 694,
   "metadata": {
    "ExecuteTime": {
     "end_time": "2022-02-21T15:17:53.593437Z",
     "start_time": "2022-02-21T15:17:53.577133Z"
    }
   },
   "outputs": [],
   "source": [
    "# Evaluation on Training set\n",
    "\n",
    "k = 5\n",
    "# Call the cross fold validation function\n",
    "mean_sensitivity_train, std_sensitivity_train, accuracy_train, f1score_train = k_fold_cross_validation( X_train, y_train, k, dt)\n",
    "mean_sensitivity_test, std_sensitivity_test, accuracy_test, f1score_test = k_fold_cross_validation( X_test, y_test  , k, dt)"
   ]
  },
  {
   "cell_type": "code",
   "execution_count": 695,
   "metadata": {
    "ExecuteTime": {
     "end_time": "2022-02-21T15:17:53.600297Z",
     "start_time": "2022-02-21T15:17:53.594379Z"
    }
   },
   "outputs": [
    {
     "data": {
      "text/html": [
       "<div>\n",
       "<style scoped>\n",
       "    .dataframe tbody tr th:only-of-type {\n",
       "        vertical-align: middle;\n",
       "    }\n",
       "\n",
       "    .dataframe tbody tr th {\n",
       "        vertical-align: top;\n",
       "    }\n",
       "\n",
       "    .dataframe thead th {\n",
       "        text-align: right;\n",
       "    }\n",
       "</style>\n",
       "<table border=\"1\" class=\"dataframe\">\n",
       "  <thead>\n",
       "    <tr style=\"text-align: right;\">\n",
       "      <th></th>\n",
       "      <th>Model</th>\n",
       "      <th>Training Sensitivity</th>\n",
       "      <th>Testing Sensitivity</th>\n",
       "      <th>Training Accuracy</th>\n",
       "      <th>Testing Accuracy</th>\n",
       "      <th>Training F1 Score</th>\n",
       "      <th>Testing F1 Score</th>\n",
       "    </tr>\n",
       "  </thead>\n",
       "  <tbody>\n",
       "    <tr>\n",
       "      <th>0</th>\n",
       "      <td>Default Decision Tree</td>\n",
       "      <td>0.735185</td>\n",
       "      <td>0.686667</td>\n",
       "      <td>0.746769</td>\n",
       "      <td>0.755128</td>\n",
       "      <td>0.766285</td>\n",
       "      <td>0.691429</td>\n",
       "    </tr>\n",
       "  </tbody>\n",
       "</table>\n",
       "</div>"
      ],
      "text/plain": [
       "                   Model  Training Sensitivity  Testing Sensitivity  \\\n",
       "0  Default Decision Tree              0.735185             0.686667   \n",
       "\n",
       "   Training Accuracy  Testing Accuracy  Training F1 Score  Testing F1 Score  \n",
       "0           0.746769          0.755128           0.766285          0.691429  "
      ]
     },
     "execution_count": 695,
     "metadata": {},
     "output_type": "execute_result"
    }
   ],
   "source": [
    "results_df = pd.DataFrame(data=[[\"Default Decision Tree\", mean_sensitivity_train, mean_sensitivity_test, accuracy_train, accuracy_test, f1score_train, f1score_test]], \n",
    "                          columns=['Model', 'Training Sensitivity', 'Testing Sensitivity', 'Training Accuracy', 'Testing Accuracy', 'Training F1 Score', 'Testing F1 Score'])\n",
    "results_df"
   ]
  },
  {
   "cell_type": "markdown",
   "metadata": {
    "ExecuteTime": {
     "end_time": "2022-02-21T05:10:17.755087Z",
     "start_time": "2022-02-21T05:10:17.742798Z"
    }
   },
   "source": [
    "## Tuning Hyper Parameters for Decision Tree\n",
    "\n",
    "Search for the optimal values"
   ]
  },
  {
   "cell_type": "code",
   "execution_count": 696,
   "metadata": {
    "ExecuteTime": {
     "end_time": "2022-02-21T15:17:55.581815Z",
     "start_time": "2022-02-21T15:17:53.601205Z"
    }
   },
   "outputs": [
    {
     "name": "stdout",
     "output_type": "stream",
     "text": [
      "Maximum sensitivity Mean: 0.7351851851851852\n",
      "Maximum sensitivity Standard Deviation: 0.06819241718341472\n",
      "Minimum Samples Split: 0.1\n",
      "Maximum Depth: 1.0\n"
     ]
    }
   ],
   "source": [
    "max_depths = np.linspace(1, 32, 32, endpoint=True)\n",
    "min_samples_splits = np.linspace(0.1, 1.0, 10, endpoint=True)\n",
    "k = 5\n",
    "\n",
    "max_sensitivity_mean = 0\n",
    "max_sensitivity_std = 0\n",
    "best_num_estimators = 0\n",
    "best_max_depth = 0\n",
    "\n",
    "for depth in max_depths:\n",
    "    for split in min_samples_splits:\n",
    "        \n",
    "        rf = DecisionTreeClassifier(max_depth=depth, min_samples_split=split)\n",
    "        \n",
    "        sensitivity, std, accuracy, f1score = k_fold_cross_validation( X_train  , y_train  ,  k , dt)\n",
    "        \n",
    "        if sensitivity >  max_sensitivity_mean :\n",
    "            max_sensitivity_mean = sensitivity\n",
    "            max_sensitivity_std = std\n",
    "            best_min_samples_split = split\n",
    "            best_max_depth = depth\n",
    "            \n",
    "print('Maximum sensitivity Mean:', max_sensitivity_mean)\n",
    "print('Maximum sensitivity Standard Deviation:', max_sensitivity_std)\n",
    "print('Minimum Samples Split:', best_min_samples_split)\n",
    "print('Maximum Depth:', best_max_depth)"
   ]
  },
  {
   "cell_type": "markdown",
   "metadata": {},
   "source": [
    "# Evaluate Optimized Decision Tree"
   ]
  },
  {
   "cell_type": "code",
   "execution_count": 697,
   "metadata": {
    "ExecuteTime": {
     "end_time": "2022-02-21T15:17:56.275613Z",
     "start_time": "2022-02-21T15:17:55.582746Z"
    }
   },
   "outputs": [],
   "source": [
    "# best parameters \n",
    "dt = RandomForestClassifier(min_samples_split= best_min_samples_split , max_depth = best_max_depth)\n",
    "\n",
    "# Evaluation on Training set\n",
    "\n",
    "k = 5\n",
    "# Call the cross fold validation function\n",
    "mean_sensitivity_train, std_sensitivity_train, accuracy_train, f1score_train = k_fold_cross_validation( X_train, y_train, k, dt)\n",
    "mean_sensitivity_test, std_sensitivity_test, accuracy_test, f1score_test = k_fold_cross_validation( X_test, y_test  , k, dt)"
   ]
  },
  {
   "cell_type": "code",
   "execution_count": 698,
   "metadata": {
    "ExecuteTime": {
     "end_time": "2022-02-21T15:17:56.282766Z",
     "start_time": "2022-02-21T15:17:56.276567Z"
    }
   },
   "outputs": [
    {
     "data": {
      "text/html": [
       "<div>\n",
       "<style scoped>\n",
       "    .dataframe tbody tr th:only-of-type {\n",
       "        vertical-align: middle;\n",
       "    }\n",
       "\n",
       "    .dataframe tbody tr th {\n",
       "        vertical-align: top;\n",
       "    }\n",
       "\n",
       "    .dataframe thead th {\n",
       "        text-align: right;\n",
       "    }\n",
       "</style>\n",
       "<table border=\"1\" class=\"dataframe\">\n",
       "  <thead>\n",
       "    <tr style=\"text-align: right;\">\n",
       "      <th></th>\n",
       "      <th>Model</th>\n",
       "      <th>Training Sensitivity</th>\n",
       "      <th>Testing Sensitivity</th>\n",
       "      <th>Training Accuracy</th>\n",
       "      <th>Testing Accuracy</th>\n",
       "      <th>Training F1 Score</th>\n",
       "      <th>Testing F1 Score</th>\n",
       "    </tr>\n",
       "  </thead>\n",
       "  <tbody>\n",
       "    <tr>\n",
       "      <th>0</th>\n",
       "      <td>Default Decision Tree</td>\n",
       "      <td>0.735185</td>\n",
       "      <td>0.686667</td>\n",
       "      <td>0.746769</td>\n",
       "      <td>0.755128</td>\n",
       "      <td>0.766285</td>\n",
       "      <td>0.691429</td>\n",
       "    </tr>\n",
       "    <tr>\n",
       "      <th>1</th>\n",
       "      <td>Optimized Decision Tree</td>\n",
       "      <td>0.940741</td>\n",
       "      <td>0.786667</td>\n",
       "      <td>0.808929</td>\n",
       "      <td>0.821795</td>\n",
       "      <td>0.848055</td>\n",
       "      <td>0.795152</td>\n",
       "    </tr>\n",
       "  </tbody>\n",
       "</table>\n",
       "</div>"
      ],
      "text/plain": [
       "                     Model  Training Sensitivity  Testing Sensitivity  \\\n",
       "0    Default Decision Tree              0.735185             0.686667   \n",
       "1  Optimized Decision Tree              0.940741             0.786667   \n",
       "\n",
       "   Training Accuracy  Testing Accuracy  Training F1 Score  Testing F1 Score  \n",
       "0           0.746769          0.755128           0.766285          0.691429  \n",
       "1           0.808929          0.821795           0.848055          0.795152  "
      ]
     },
     "execution_count": 698,
     "metadata": {},
     "output_type": "execute_result"
    }
   ],
   "source": [
    "results_df_2 = pd.DataFrame(data=[[\"Optimized Decision Tree\", mean_sensitivity_train, mean_sensitivity_test, accuracy_train, accuracy_test, f1score_train, f1score_test]], \n",
    "                          columns=['Model', 'Training Sensitivity', 'Testing Sensitivity', 'Training Accuracy', 'Testing Accuracy', 'Training F1 Score', 'Testing F1 Score'])\n",
    "\n",
    "results_df = results_df.append(results_df_2, ignore_index=True)\n",
    "results_df"
   ]
  },
  {
   "cell_type": "markdown",
   "metadata": {},
   "source": [
    "# Create a Random Forest Classifier"
   ]
  },
  {
   "cell_type": "code",
   "execution_count": 699,
   "metadata": {
    "ExecuteTime": {
     "end_time": "2022-02-21T15:17:56.285040Z",
     "start_time": "2022-02-21T15:17:56.283552Z"
    }
   },
   "outputs": [],
   "source": [
    "# Set the parameters of the RandomForestClassifier\n",
    "rf = RandomForestClassifier(n_estimators =  10 , max_depth =  4 )"
   ]
  },
  {
   "cell_type": "markdown",
   "metadata": {},
   "source": [
    "Test the model using this cross fold validation function"
   ]
  },
  {
   "cell_type": "code",
   "execution_count": 700,
   "metadata": {
    "ExecuteTime": {
     "end_time": "2022-02-21T15:17:56.374798Z",
     "start_time": "2022-02-21T15:17:56.285979Z"
    }
   },
   "outputs": [],
   "source": [
    "# Evaluation on Training set\n",
    "\n",
    "k = 5\n",
    "# Call the cross fold validation function\n",
    "mean_sensitivity_train, std_sensitivity_train, accuracy_train, f1score_train = k_fold_cross_validation( X_train, y_train, k, rf)\n",
    "mean_sensitivity_test, std_sensitivity_test, accuracy_test, f1score_test = k_fold_cross_validation( X_test, y_test  , k, rf)"
   ]
  },
  {
   "cell_type": "code",
   "execution_count": 701,
   "metadata": {
    "ExecuteTime": {
     "end_time": "2022-02-21T15:17:56.382021Z",
     "start_time": "2022-02-21T15:17:56.375611Z"
    }
   },
   "outputs": [
    {
     "data": {
      "text/html": [
       "<div>\n",
       "<style scoped>\n",
       "    .dataframe tbody tr th:only-of-type {\n",
       "        vertical-align: middle;\n",
       "    }\n",
       "\n",
       "    .dataframe tbody tr th {\n",
       "        vertical-align: top;\n",
       "    }\n",
       "\n",
       "    .dataframe thead th {\n",
       "        text-align: right;\n",
       "    }\n",
       "</style>\n",
       "<table border=\"1\" class=\"dataframe\">\n",
       "  <thead>\n",
       "    <tr style=\"text-align: right;\">\n",
       "      <th></th>\n",
       "      <th>Model</th>\n",
       "      <th>Training Sensitivity</th>\n",
       "      <th>Testing Sensitivity</th>\n",
       "      <th>Training Accuracy</th>\n",
       "      <th>Testing Accuracy</th>\n",
       "      <th>Training F1 Score</th>\n",
       "      <th>Testing F1 Score</th>\n",
       "    </tr>\n",
       "  </thead>\n",
       "  <tbody>\n",
       "    <tr>\n",
       "      <th>0</th>\n",
       "      <td>Default Decision Tree</td>\n",
       "      <td>0.735185</td>\n",
       "      <td>0.686667</td>\n",
       "      <td>0.746769</td>\n",
       "      <td>0.755128</td>\n",
       "      <td>0.766285</td>\n",
       "      <td>0.691429</td>\n",
       "    </tr>\n",
       "    <tr>\n",
       "      <th>1</th>\n",
       "      <td>Optimized Decision Tree</td>\n",
       "      <td>0.940741</td>\n",
       "      <td>0.786667</td>\n",
       "      <td>0.808929</td>\n",
       "      <td>0.821795</td>\n",
       "      <td>0.848055</td>\n",
       "      <td>0.795152</td>\n",
       "    </tr>\n",
       "    <tr>\n",
       "      <th>2</th>\n",
       "      <td>Default Random Forest</td>\n",
       "      <td>0.808466</td>\n",
       "      <td>0.860000</td>\n",
       "      <td>0.771599</td>\n",
       "      <td>0.803846</td>\n",
       "      <td>0.798626</td>\n",
       "      <td>0.805455</td>\n",
       "    </tr>\n",
       "  </tbody>\n",
       "</table>\n",
       "</div>"
      ],
      "text/plain": [
       "                     Model  Training Sensitivity  Testing Sensitivity  \\\n",
       "0    Default Decision Tree              0.735185             0.686667   \n",
       "1  Optimized Decision Tree              0.940741             0.786667   \n",
       "2    Default Random Forest              0.808466             0.860000   \n",
       "\n",
       "   Training Accuracy  Testing Accuracy  Training F1 Score  Testing F1 Score  \n",
       "0           0.746769          0.755128           0.766285          0.691429  \n",
       "1           0.808929          0.821795           0.848055          0.795152  \n",
       "2           0.771599          0.803846           0.798626          0.805455  "
      ]
     },
     "execution_count": 701,
     "metadata": {},
     "output_type": "execute_result"
    }
   ],
   "source": [
    "results_df_2 = pd.DataFrame(data=[[\"Default Random Forest\", mean_sensitivity_train, mean_sensitivity_test, accuracy_train, accuracy_test, f1score_train, f1score_test]], \n",
    "                          columns=['Model', 'Training Sensitivity', 'Testing Sensitivity', 'Training Accuracy', 'Testing Accuracy', 'Training F1 Score', 'Testing F1 Score'])\n",
    "\n",
    "results_df = results_df.append(results_df_2, ignore_index=True)\n",
    "results_df"
   ]
  },
  {
   "cell_type": "markdown",
   "metadata": {},
   "source": [
    "## Tuning Hyper Parameters for Random Forest\n",
    "\n",
    "Search for the optimal values"
   ]
  },
  {
   "cell_type": "code",
   "execution_count": 702,
   "metadata": {
    "ExecuteTime": {
     "end_time": "2022-02-21T15:17:58.352351Z",
     "start_time": "2022-02-21T15:17:56.385572Z"
    }
   },
   "outputs": [
    {
     "name": "stdout",
     "output_type": "stream",
     "text": [
      "Maximum sensitivity Mean: 0.9259259259259259\n",
      "Maximum sensitivity Standard Deviation: 0.04057204129667899\n",
      "Number of Estimators: 20\n",
      "Maximum Depth: 2\n"
     ]
    }
   ],
   "source": [
    "num_estimators = [2, 4, 6, 8, 10, 15, 20, 30]\n",
    "\n",
    "max_depth = [2, 4, 6, 8, 12]\n",
    "\n",
    "k = 5\n",
    "\n",
    "max_sensitivity_mean = 0\n",
    "max_sensitivity_std = 0\n",
    "best_num_estimators = 0\n",
    "best_max_depth = 0\n",
    "\n",
    "for num_estimator in num_estimators:\n",
    "    for depth in max_depth:\n",
    "        \n",
    "        rf = RandomForestClassifier(n_estimators=num_estimator, max_depth=depth)\n",
    "        \n",
    "        sensitivity, std, accuracy, f1score = k_fold_cross_validation( X_train  , y_train  ,  k , rf  )\n",
    "        \n",
    "        if sensitivity >  max_sensitivity_mean :\n",
    "            max_sensitivity_mean = sensitivity\n",
    "            max_sensitivity_std = std\n",
    "            best_num_estimators = num_estimator\n",
    "            best_max_depth = depth\n",
    "            \n",
    "print('Maximum sensitivity Mean:', max_sensitivity_mean)\n",
    "print('Maximum sensitivity Standard Deviation:', max_sensitivity_std)\n",
    "print('Number of Estimators:', best_num_estimators)\n",
    "print('Maximum Depth:', best_max_depth)"
   ]
  },
  {
   "cell_type": "markdown",
   "metadata": {},
   "source": [
    "# Evaluate Optimized Random Forest Classifier\n"
   ]
  },
  {
   "cell_type": "code",
   "execution_count": 703,
   "metadata": {
    "ExecuteTime": {
     "end_time": "2022-02-21T15:17:58.507547Z",
     "start_time": "2022-02-21T15:17:58.353494Z"
    }
   },
   "outputs": [],
   "source": [
    "# best parameters \n",
    "rf = RandomForestClassifier(n_estimators = best_num_estimators , max_depth = best_max_depth)\n",
    "\n",
    "# Evaluation on Training set\n",
    "\n",
    "k = 5\n",
    "# Call the cross fold validation function\n",
    "mean_sensitivity_train, std_sensitivity_train, accuracy_train, f1score_train = k_fold_cross_validation( X_train, y_train, k, rf)\n",
    "mean_sensitivity_test, std_sensitivity_test, accuracy_test, f1score_test = k_fold_cross_validation( X_test, y_test  , k, rf)"
   ]
  },
  {
   "cell_type": "code",
   "execution_count": 704,
   "metadata": {
    "ExecuteTime": {
     "end_time": "2022-02-21T15:17:58.515191Z",
     "start_time": "2022-02-21T15:17:58.508467Z"
    }
   },
   "outputs": [
    {
     "data": {
      "text/html": [
       "<div>\n",
       "<style scoped>\n",
       "    .dataframe tbody tr th:only-of-type {\n",
       "        vertical-align: middle;\n",
       "    }\n",
       "\n",
       "    .dataframe tbody tr th {\n",
       "        vertical-align: top;\n",
       "    }\n",
       "\n",
       "    .dataframe thead th {\n",
       "        text-align: right;\n",
       "    }\n",
       "</style>\n",
       "<table border=\"1\" class=\"dataframe\">\n",
       "  <thead>\n",
       "    <tr style=\"text-align: right;\">\n",
       "      <th></th>\n",
       "      <th>Model</th>\n",
       "      <th>Training Sensitivity</th>\n",
       "      <th>Testing Sensitivity</th>\n",
       "      <th>Training Accuracy</th>\n",
       "      <th>Testing Accuracy</th>\n",
       "      <th>Training F1 Score</th>\n",
       "      <th>Testing F1 Score</th>\n",
       "    </tr>\n",
       "  </thead>\n",
       "  <tbody>\n",
       "    <tr>\n",
       "      <th>0</th>\n",
       "      <td>Default Decision Tree</td>\n",
       "      <td>0.735185</td>\n",
       "      <td>0.686667</td>\n",
       "      <td>0.746769</td>\n",
       "      <td>0.755128</td>\n",
       "      <td>0.766285</td>\n",
       "      <td>0.691429</td>\n",
       "    </tr>\n",
       "    <tr>\n",
       "      <th>1</th>\n",
       "      <td>Optimized Decision Tree</td>\n",
       "      <td>0.940741</td>\n",
       "      <td>0.786667</td>\n",
       "      <td>0.808929</td>\n",
       "      <td>0.821795</td>\n",
       "      <td>0.848055</td>\n",
       "      <td>0.795152</td>\n",
       "    </tr>\n",
       "    <tr>\n",
       "      <th>2</th>\n",
       "      <td>Default Random Forest</td>\n",
       "      <td>0.808466</td>\n",
       "      <td>0.860000</td>\n",
       "      <td>0.771599</td>\n",
       "      <td>0.803846</td>\n",
       "      <td>0.798626</td>\n",
       "      <td>0.805455</td>\n",
       "    </tr>\n",
       "    <tr>\n",
       "      <th>3</th>\n",
       "      <td>Optimized Random Forest</td>\n",
       "      <td>0.911376</td>\n",
       "      <td>0.900000</td>\n",
       "      <td>0.813095</td>\n",
       "      <td>0.852564</td>\n",
       "      <td>0.846424</td>\n",
       "      <td>0.851109</td>\n",
       "    </tr>\n",
       "  </tbody>\n",
       "</table>\n",
       "</div>"
      ],
      "text/plain": [
       "                     Model  Training Sensitivity  Testing Sensitivity  \\\n",
       "0    Default Decision Tree              0.735185             0.686667   \n",
       "1  Optimized Decision Tree              0.940741             0.786667   \n",
       "2    Default Random Forest              0.808466             0.860000   \n",
       "3  Optimized Random Forest              0.911376             0.900000   \n",
       "\n",
       "   Training Accuracy  Testing Accuracy  Training F1 Score  Testing F1 Score  \n",
       "0           0.746769          0.755128           0.766285          0.691429  \n",
       "1           0.808929          0.821795           0.848055          0.795152  \n",
       "2           0.771599          0.803846           0.798626          0.805455  \n",
       "3           0.813095          0.852564           0.846424          0.851109  "
      ]
     },
     "execution_count": 704,
     "metadata": {},
     "output_type": "execute_result"
    }
   ],
   "source": [
    "results_df_2 = pd.DataFrame(data=[[\"Optimized Random Forest\", mean_sensitivity_train, mean_sensitivity_test, accuracy_train, accuracy_test, f1score_train, f1score_test]], \n",
    "                          columns=['Model', 'Training Sensitivity', 'Testing Sensitivity', 'Training Accuracy', 'Testing Accuracy', 'Training F1 Score', 'Testing F1 Score'])\n",
    "\n",
    "results_df = results_df.append(results_df_2, ignore_index=True)\n",
    "results_df"
   ]
  },
  {
   "cell_type": "markdown",
   "metadata": {},
   "source": [
    "### Visualizing features importances\n",
    "\n",
    "`feature_importance_` attribute is used to rank the significance of each feature based on the gini index. The overall rank order of the features will tell us about the feature importances."
   ]
  },
  {
   "cell_type": "code",
   "execution_count": 705,
   "metadata": {
    "ExecuteTime": {
     "end_time": "2022-02-21T15:17:58.637167Z",
     "start_time": "2022-02-21T15:17:58.516024Z"
    }
   },
   "outputs": [
    {
     "data": {
      "image/png": "[encoded data removed]",
      "text/plain": [
       "<Figure size 1296x576 with 1 Axes>"
      ]
     },
     "metadata": {
      "needs_background": "light"
     },
     "output_type": "display_data"
    }
   ],
   "source": [
    "feature_importance=pd.DataFrame({\n",
    "                                'rf':rf.feature_importances_,\n",
    "                                'dt':dt.feature_importances_},\n",
    "                                index=heart_df.drop('target',1).columns)\n",
    "feature_importance.sort_values(by='rf',ascending=True,inplace=True)\n",
    "\n",
    "index = np.arange(len(feature_importance))\n",
    "fig, ax = plt.subplots(figsize=(18,8))\n",
    "rf_feature=ax.barh(index,feature_importance['rf'],0.4,color='purple',label='Random Forest')\n",
    "dt_feature=ax.barh(index+0.4,feature_importance['dt'],0.4,color='lightgreen',label='Decision Tree')\n",
    "ax.set(yticks=index+0.4,yticklabels=feature_importance.index)\n",
    "plt.title('Features Importances')\n",
    "ax.legend(loc='lower right')\n",
    "plt.show()"
   ]
  },
  {
   "cell_type": "markdown",
   "metadata": {},
   "source": [
    "### Feature Engineering"
   ]
  },
  {
   "cell_type": "markdown",
   "metadata": {},
   "source": [
    "Let's see if dropping some of the features will help in increasing model performance. According to feature importances, the features \"fbs\" and \"slope\" has little to no importance compared to others, so we will try removing these features and build a new random forest model."
   ]
  },
  {
   "cell_type": "code",
   "execution_count": 712,
   "metadata": {
    "ExecuteTime": {
     "end_time": "2022-02-21T15:20:55.528802Z",
     "start_time": "2022-02-21T15:20:55.499582Z"
    }
   },
   "outputs": [],
   "source": [
    "heart_df2 = heart_df[['thal','ca','oldpeak','thalach','exang','target','trestbps','chol', 'age', 'cp', 'sex', 'restecg']]"
   ]
  },
  {
   "cell_type": "code",
   "execution_count": 708,
   "metadata": {
    "ExecuteTime": {
     "end_time": "2022-02-21T15:19:41.954400Z",
     "start_time": "2022-02-21T15:19:41.943321Z"
    }
   },
   "outputs": [],
   "source": [
    "# Extract feature vectors and labels\n",
    "X = heart_df2.drop('target',1)\n",
    "y = heart_df2['target']\n",
    "\n",
    "# Convert from pandas objects to numpy objects\n",
    "X = X.values\n",
    "y = y.values\n",
    "X_train, X_test, y_train, y_test = train_test_split(X, y, test_size=0.2, random_state=2)"
   ]
  },
  {
   "cell_type": "code",
   "execution_count": 709,
   "metadata": {
    "ExecuteTime": {
     "end_time": "2022-02-21T15:19:44.886345Z",
     "start_time": "2022-02-21T15:19:42.369141Z"
    }
   },
   "outputs": [
    {
     "name": "stdout",
     "output_type": "stream",
     "text": [
      "Maximum sensitivity Mean: 0.9259259259259258\n",
      "Maximum sensitivity Standard Deviation: 0.05237828008789241\n",
      "Number of Estimators: 40\n",
      "Maximum Depth: 2\n"
     ]
    }
   ],
   "source": [
    "num_estimators = [2, 4, 6, 8, 10, 15, 30, 40]\n",
    "\n",
    "max_depth = [2, 4, 6, 8, 12]\n",
    "\n",
    "k = 5\n",
    "\n",
    "max_sensitivity_mean = 0\n",
    "max_sensitivity_std = 0\n",
    "best_num_estimators = 0\n",
    "best_max_depth = 0\n",
    "\n",
    "for num_estimator in num_estimators:\n",
    "    for depth in max_depth:\n",
    "        \n",
    "        rf = RandomForestClassifier(n_estimators=num_estimator, max_depth=depth)\n",
    "        \n",
    "        sensitivity, std, accuracy, f1score = k_fold_cross_validation( X_train  , y_train  ,  k , rf  )\n",
    "        \n",
    "        if sensitivity >  max_sensitivity_mean :\n",
    "            max_sensitivity_mean = sensitivity\n",
    "            max_sensitivity_std = std\n",
    "            best_num_estimators = num_estimator\n",
    "            best_max_depth = depth\n",
    "            \n",
    "print('Maximum sensitivity Mean:', max_sensitivity_mean)\n",
    "print('Maximum sensitivity Standard Deviation:', max_sensitivity_std)\n",
    "print('Number of Estimators:', best_num_estimators)\n",
    "print('Maximum Depth:', best_max_depth)"
   ]
  },
  {
   "cell_type": "code",
   "execution_count": 710,
   "metadata": {
    "ExecuteTime": {
     "end_time": "2022-02-21T15:19:45.200042Z",
     "start_time": "2022-02-21T15:19:44.887478Z"
    }
   },
   "outputs": [],
   "source": [
    "# best parameters \n",
    "rf = RandomForestClassifier(n_estimators = best_num_estimators , max_depth = best_max_depth)\n",
    "\n",
    "# Evaluation on Training set\n",
    "\n",
    "k = 5\n",
    "# Call the cross fold validation function\n",
    "mean_sensitivity_train, std_sensitivity_train, accuracy_train, f1score_train = k_fold_cross_validation( X_train, y_train, k, rf)\n",
    "mean_sensitivity_test, std_sensitivity_test, accuracy_test, f1score_test = k_fold_cross_validation( X_test, y_test  , k, rf)"
   ]
  },
  {
   "cell_type": "code",
   "execution_count": 711,
   "metadata": {
    "ExecuteTime": {
     "end_time": "2022-02-21T15:19:45.211047Z",
     "start_time": "2022-02-21T15:19:45.201587Z"
    }
   },
   "outputs": [
    {
     "data": {
      "text/html": [
       "<div>\n",
       "<style scoped>\n",
       "    .dataframe tbody tr th:only-of-type {\n",
       "        vertical-align: middle;\n",
       "    }\n",
       "\n",
       "    .dataframe tbody tr th {\n",
       "        vertical-align: top;\n",
       "    }\n",
       "\n",
       "    .dataframe thead th {\n",
       "        text-align: right;\n",
       "    }\n",
       "</style>\n",
       "<table border=\"1\" class=\"dataframe\">\n",
       "  <thead>\n",
       "    <tr style=\"text-align: right;\">\n",
       "      <th></th>\n",
       "      <th>Model</th>\n",
       "      <th>Training Sensitivity</th>\n",
       "      <th>Testing Sensitivity</th>\n",
       "      <th>Training Accuracy</th>\n",
       "      <th>Testing Accuracy</th>\n",
       "      <th>Training F1 Score</th>\n",
       "      <th>Testing F1 Score</th>\n",
       "    </tr>\n",
       "  </thead>\n",
       "  <tbody>\n",
       "    <tr>\n",
       "      <th>0</th>\n",
       "      <td>Default Decision Tree</td>\n",
       "      <td>0.735185</td>\n",
       "      <td>0.686667</td>\n",
       "      <td>0.746769</td>\n",
       "      <td>0.755128</td>\n",
       "      <td>0.766285</td>\n",
       "      <td>0.691429</td>\n",
       "    </tr>\n",
       "    <tr>\n",
       "      <th>1</th>\n",
       "      <td>Optimized Decision Tree</td>\n",
       "      <td>0.940741</td>\n",
       "      <td>0.786667</td>\n",
       "      <td>0.808929</td>\n",
       "      <td>0.821795</td>\n",
       "      <td>0.848055</td>\n",
       "      <td>0.795152</td>\n",
       "    </tr>\n",
       "    <tr>\n",
       "      <th>2</th>\n",
       "      <td>Default Random Forest</td>\n",
       "      <td>0.808466</td>\n",
       "      <td>0.860000</td>\n",
       "      <td>0.771599</td>\n",
       "      <td>0.803846</td>\n",
       "      <td>0.798626</td>\n",
       "      <td>0.805455</td>\n",
       "    </tr>\n",
       "    <tr>\n",
       "      <th>3</th>\n",
       "      <td>Optimized Random Forest</td>\n",
       "      <td>0.911376</td>\n",
       "      <td>0.900000</td>\n",
       "      <td>0.813095</td>\n",
       "      <td>0.852564</td>\n",
       "      <td>0.846424</td>\n",
       "      <td>0.851109</td>\n",
       "    </tr>\n",
       "    <tr>\n",
       "      <th>4</th>\n",
       "      <td>Optimized Random Forest with Less Features</td>\n",
       "      <td>0.889153</td>\n",
       "      <td>0.933333</td>\n",
       "      <td>0.800680</td>\n",
       "      <td>0.884615</td>\n",
       "      <td>0.834258</td>\n",
       "      <td>0.884149</td>\n",
       "    </tr>\n",
       "  </tbody>\n",
       "</table>\n",
       "</div>"
      ],
      "text/plain": [
       "                                        Model  Training Sensitivity  \\\n",
       "0                       Default Decision Tree              0.735185   \n",
       "1                     Optimized Decision Tree              0.940741   \n",
       "2                       Default Random Forest              0.808466   \n",
       "3                     Optimized Random Forest              0.911376   \n",
       "4  Optimized Random Forest with Less Features              0.889153   \n",
       "\n",
       "   Testing Sensitivity  Training Accuracy  Testing Accuracy  \\\n",
       "0             0.686667           0.746769          0.755128   \n",
       "1             0.786667           0.808929          0.821795   \n",
       "2             0.860000           0.771599          0.803846   \n",
       "3             0.900000           0.813095          0.852564   \n",
       "4             0.933333           0.800680          0.884615   \n",
       "\n",
       "   Training F1 Score  Testing F1 Score  \n",
       "0           0.766285          0.691429  \n",
       "1           0.848055          0.795152  \n",
       "2           0.798626          0.805455  \n",
       "3           0.846424          0.851109  \n",
       "4           0.834258          0.884149  "
      ]
     },
     "execution_count": 711,
     "metadata": {},
     "output_type": "execute_result"
    }
   ],
   "source": [
    "results_df_2 = pd.DataFrame(data=[[\"Optimized Random Forest with Less Features\", mean_sensitivity_train, mean_sensitivity_test, accuracy_train, accuracy_test, f1score_train, f1score_test]], \n",
    "                          columns=['Model', 'Training Sensitivity', 'Testing Sensitivity', 'Training Accuracy', 'Testing Accuracy', 'Training F1 Score', 'Testing F1 Score'])\n",
    "\n",
    "results_df = results_df.append(results_df_2, ignore_index=True)\n",
    "results_df"
   ]
  },
  {
   "cell_type": "markdown",
   "metadata": {},
   "source": [
    "Feature engineering helped in increasing the sensitivity and accuracy of the model from 90% to 93% and from 85% to 88% respectively. "
   ]
  },
  {
   "cell_type": "code",
   "execution_count": null,
   "metadata": {},
   "outputs": [],
   "source": []
  }
 ],
 "metadata": {
  "kernelspec": {
   "display_name": "Python 3",
   "language": "python",
   "name": "python3"
  },
  "language_info": {
   "codemirror_mode": {
    "name": "ipython",
    "version": 3
   },
   "file_extension": ".py",
   "mimetype": "text/x-python",
   "name": "python",
   "nbconvert_exporter": "python",
   "pygments_lexer": "ipython3",
   "version": "3.8.5"
  }
 },
 "nbformat": 4,
 "nbformat_minor": 4
}
